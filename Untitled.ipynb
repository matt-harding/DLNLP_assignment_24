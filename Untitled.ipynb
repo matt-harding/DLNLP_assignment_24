{
 "cells": [
  {
   "cell_type": "code",
   "execution_count": 52,
   "id": "defb4e43-0a1e-462a-b04e-13aa69676b6c",
   "metadata": {},
   "outputs": [],
   "source": [
    "from datasets import load_dataset, get_dataset_split_names\n",
    "import os\n",
    "\n",
    "# https://huggingface.co/datasets/yahoo_answers_topics\n",
    "DATASET = 'yahoo_answers_topics'\n",
    "DATA_DIRECTORY = 'Datasets'"
   ]
  },
  {
   "cell_type": "code",
   "execution_count": 4,
   "id": "e57b2939-7ce2-4009-84d2-b4ca14e4609a",
   "metadata": {},
   "outputs": [
    {
     "data": {
      "application/vnd.jupyter.widget-view+json": {
       "model_id": "15c496e2fdc342da968b89658526764e",
       "version_major": 2,
       "version_minor": 0
      },
      "text/plain": [
       "Creating json from Arrow format:   0%|          | 0/1400 [00:00<?, ?ba/s]"
      ]
     },
     "metadata": {},
     "output_type": "display_data"
    },
    {
     "data": {
      "application/vnd.jupyter.widget-view+json": {
       "model_id": "0d5785fe48194cb3916ef20ff050c2e9",
       "version_major": 2,
       "version_minor": 0
      },
      "text/plain": [
       "Creating json from Arrow format:   0%|          | 0/60 [00:00<?, ?ba/s]"
      ]
     },
     "metadata": {},
     "output_type": "display_data"
    }
   ],
   "source": [
    "for split in get_dataset_split_names(DATASET):\n",
    "    # load the split of the dataset\n",
    "    dataset = load_dataset(DATASET, split=split)\n",
    "    # save the split of the dataset to the download directory as json lines file\n",
    "    dataset.to_json(os.path.join(DATA_DIRECTORY, f\"{split}.jsonl\"))"
   ]
  },
  {
   "cell_type": "code",
   "execution_count": 49,
   "id": "04299d0a-fa0a-43dc-813b-df1c412cf969",
   "metadata": {},
   "outputs": [
    {
     "name": "stderr",
     "output_type": "stream",
     "text": [
      "[nltk_data] Downloading package stopwords to /Users/matt/nltk_data...\n",
      "[nltk_data]   Package stopwords is already up-to-date!\n",
      "[nltk_data] Downloading package wordnet to /Users/matt/nltk_data...\n",
      "[nltk_data]   Package wordnet is already up-to-date!\n"
     ]
    },
    {
     "data": {
      "text/plain": [
       "True"
      ]
     },
     "execution_count": 49,
     "metadata": {},
     "output_type": "execute_result"
    }
   ],
   "source": [
    "import string\n",
    "import pandas as pd\n",
    "import nltk\n",
    "from nltk.stem import PorterStemmer\n",
    "from nltk.stem.wordnet import WordNetLemmatizer\n",
    "nltk.download('stopwords')\n",
    "nltk.download('wordnet')"
   ]
  },
  {
   "cell_type": "code",
   "execution_count": 50,
   "id": "1f009807-7d08-4541-9475-4a7e986dc5cc",
   "metadata": {},
   "outputs": [],
   "source": [
    "def clean_text(text):\n",
    "    final_string = ''\n",
    "\n",
    "    # Lowercase text\n",
    "    text = text.lower()\n",
    "\n",
    "    # Remove puncuation\n",
    "    translator = str.maketrans('', '', string.punctuation)\n",
    "    text = text.translate(translator)\n",
    "\n",
    "    # Remove stop words\n",
    "    text = text.split()\n",
    "    useless_words = nltk.corpus.stopwords.words(\"english\")\n",
    "    useless_words = useless_words + ['hi', 'im']\n",
    "    text_filtered = [word for word in text if not word in useless_words]\n",
    "\n",
    "    # Lemmatize\n",
    "    lem = WordNetLemmatizer()\n",
    "    text_stemmed = [lem.lemmatize(y) for y in text_filtered]\n",
    "\n",
    "    final_string = ' '.join(text_stemmed)\n",
    "\n",
    "    return final_string"
   ]
  },
  {
   "cell_type": "code",
   "execution_count": 57,
   "id": "f74fe315-8746-45c9-b3f4-3f1fe73f9d65",
   "metadata": {},
   "outputs": [],
   "source": [
    "for split in get_dataset_split_names(DATASET):\n",
    "    df = pd.read_json('Datasets/' + split + '.jsonl', lines=True)\n",
    "\n",
    "    clean_df = pd.DataFrame(columns=[\"question_text\", \"question_topic\"])\n",
    "    \n",
    "    for index, row in df.iterrows():\n",
    "        clean_question = clean_text(row['question_title'] + ' ' + row['question_content'])\n",
    "        new_row = pd.Series({\"question_text\": clean_question,\n",
    "                 \"question_topic\": row['topic']})\n",
    "        clean_df = pd.concat([clean_df, pd.DataFrame([new_row])], ignore_index=True)\n",
    "    \n",
    "    clean_df.to_csv(os.path.join(DATA_DIRECTORY, f\"clean_{split}.csv\"))    "
   ]
  },
  {
   "cell_type": "code",
   "execution_count": 54,
   "id": "90236a43-037b-472a-88d8-f369b3b7e918",
   "metadata": {},
   "outputs": [
    {
     "data": {
      "text/html": [
       "<div>\n",
       "<style scoped>\n",
       "    .dataframe tbody tr th:only-of-type {\n",
       "        vertical-align: middle;\n",
       "    }\n",
       "\n",
       "    .dataframe tbody tr th {\n",
       "        vertical-align: top;\n",
       "    }\n",
       "\n",
       "    .dataframe thead th {\n",
       "        text-align: right;\n",
       "    }\n",
       "</style>\n",
       "<table border=\"1\" class=\"dataframe\">\n",
       "  <thead>\n",
       "    <tr style=\"text-align: right;\">\n",
       "      <th></th>\n",
       "      <th>question_text</th>\n",
       "      <th>question_topic</th>\n",
       "    </tr>\n",
       "  </thead>\n",
       "  <tbody>\n",
       "  </tbody>\n",
       "</table>\n",
       "</div>"
      ],
      "text/plain": [
       "Empty DataFrame\n",
       "Columns: [question_text, question_topic]\n",
       "Index: []"
      ]
     },
     "execution_count": 54,
     "metadata": {},
     "output_type": "execute_result"
    }
   ],
   "source": []
  },
  {
   "cell_type": "code",
   "execution_count": null,
   "id": "d9a5ded0-73cd-4ec6-aacf-e6a6acea532b",
   "metadata": {},
   "outputs": [],
   "source": []
  }
 ],
 "metadata": {
  "kernelspec": {
   "display_name": "Python 3 (ipykernel)",
   "language": "python",
   "name": "python3"
  },
  "language_info": {
   "codemirror_mode": {
    "name": "ipython",
    "version": 3
   },
   "file_extension": ".py",
   "mimetype": "text/x-python",
   "name": "python",
   "nbconvert_exporter": "python",
   "pygments_lexer": "ipython3",
   "version": "3.10.2"
  }
 },
 "nbformat": 4,
 "nbformat_minor": 5
}
